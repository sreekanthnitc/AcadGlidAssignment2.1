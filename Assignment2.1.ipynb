{
 "cells": [
  {
   "cell_type": "code",
   "execution_count": 1,
   "metadata": {},
   "outputs": [
    {
     "name": "stdout",
     "output_type": "stream",
     "text": [
      "Input some comma seprated numbers : 4,5,66,11,23,11,22,13,12,45,23\n",
      "Sorted List : ['4', '5', '11', '11', '12', '13', '22', '23', '23', '45', '66']\n"
     ]
    }
   ],
   "source": [
    "inputData = input(\"Input some comma seprated numbers : \")\n",
    "result = inputData.split(\",\")\n",
    "print('Sorted List :', sorted(result, key=int, reverse=False))"
   ]
  },
  {
   "cell_type": "code",
   "execution_count": null,
   "metadata": {},
   "outputs": [],
   "source": []
  }
 ],
 "metadata": {
  "kernelspec": {
   "display_name": "Python 3",
   "language": "python",
   "name": "python3"
  },
  "language_info": {
   "codemirror_mode": {
    "name": "ipython",
    "version": 3
   },
   "file_extension": ".py",
   "mimetype": "text/x-python",
   "name": "python",
   "nbconvert_exporter": "python",
   "pygments_lexer": "ipython3",
   "version": "3.6.5"
  }
 },
 "nbformat": 4,
 "nbformat_minor": 2
}
